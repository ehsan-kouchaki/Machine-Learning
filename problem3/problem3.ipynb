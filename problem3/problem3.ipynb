{
 "cells": [
  {
   "cell_type": "markdown",
   "metadata": {},
   "source": [
    "# Pattern Recognition\n",
    "## Ehsan Kouchaki\n",
    "### Dec. 23, 2021"
   ]
  },
  {
   "cell_type": "code",
   "execution_count": 1,
   "metadata": {},
   "outputs": [],
   "source": [
    "import numpy as np\n",
    "import matplotlib.pyplot as plt\n",
    "import pandas as pd"
   ]
  },
  {
   "cell_type": "markdown",
   "metadata": {},
   "source": [
    "### Reading data"
   ]
  },
  {
   "cell_type": "code",
   "execution_count": 2,
   "metadata": {},
   "outputs": [],
   "source": [
    "xls = pd.ExcelFile('Computer_Assignment_4_Data.xls')\n",
    "df_Weights = pd.read_excel(xls, 'Initial Weights')\n",
    "df_Train = pd.read_excel(xls, 'Training Set')\n",
    "df_Test = pd.read_excel(xls, 'Testing Set')"
   ]
  },
  {
   "cell_type": "markdown",
   "metadata": {},
   "source": [
    "### Initial parameters"
   ]
  },
  {
   "cell_type": "code",
   "execution_count": 3,
   "metadata": {},
   "outputs": [],
   "source": [
    "W12_1 = df_Weights.iloc[3:7, 2].to_numpy(dtype=float)\n",
    "W12_2 = df_Weights.iloc[7:11, 2].to_numpy(dtype=float)\n",
    "W12 = np.stack((W12_1, W12_2), axis = 1)\n",
    "bias2 = df_Weights.iloc[11:15, 2].to_numpy(dtype=float)\n",
    "\n",
    "W23_1 = df_Weights.iloc[3:5, 6].to_numpy(dtype=float)\n",
    "W23_2 = df_Weights.iloc[5:7, 6].to_numpy(dtype=float)\n",
    "W23_3 = df_Weights.iloc[7:9, 6].to_numpy(dtype=float)\n",
    "W23_4 = df_Weights.iloc[9:11, 6].to_numpy(dtype=float)\n",
    "W23 = np.stack((W23_1, W23_2, W23_3, W23_4), axis = 1)\n",
    "bias3 = df_Weights.iloc[11:13, 6].to_numpy(dtype=float)\n",
    "\n",
    "learning_rate = df_Weights.iloc[17:18, 2].to_numpy(dtype=float)[0]\n",
    "Epochs = df_Weights.iloc[18:19, 2].to_numpy(dtype=int)[0]\n",
    "\n",
    "Train = df_Train.iloc[1:, 1:].to_numpy(dtype=float)\n",
    "Test = df_Test.iloc[1:, :].to_numpy(dtype=float)\n",
    "\n",
    "X_train = Train[:, 0:2].T\n",
    "Y_train = Train[:, 2:4].T\n",
    "\n",
    "X_test = Test[:, 1:3].T"
   ]
  },
  {
   "cell_type": "markdown",
   "metadata": {},
   "source": [
    "## Affine and activation modules"
   ]
  },
  {
   "cell_type": "code",
   "execution_count": 4,
   "metadata": {},
   "outputs": [],
   "source": [
    "def sigmoid(z):\n",
    "    sigma = 1/(1 + np.exp(-z))\n",
    "    return sigma\n",
    "\n",
    "def dsigmoid(z):\n",
    "    sigma = 1/(1 + np.exp(-z))\n",
    "    sigmap = sigma * (1 - sigma)\n",
    "    return sigmap\n",
    "\n",
    "def affine_forward(A, W, b):\n",
    "    Z = np.dot(W, A) + b\n",
    "    cache = (A, W, b)\n",
    "    return Z, cache\n",
    "\n",
    "def Sigmoid_forward(Z):\n",
    "    A = sigmoid(Z)\n",
    "    cache = Z\n",
    "    return A, cache\n",
    "\n",
    "def compute_cost(y_hat, Y):\n",
    "    cost = - np.sum(np.multiply(np.log(y_hat),Y) +\n",
    "                    np.multiply(np.log(1 - y_hat),(1 - Y))) / y_hat.shape[1]\n",
    "    return cost\n",
    "\n",
    "def affine_backward(dZ, cache):\n",
    "    A_l_1, W_l, b_l = cache[0], cache[1], cache[2]\n",
    "    m = A_l_1.shape[1]\n",
    "    \n",
    "    dW_l = 1 / m * np.dot(dZ, A_l_1.T)\n",
    "    db_l = 1 / m * np.sum(dZ, axis = 1, keepdims = True)\n",
    "    dA_l_1 = np.dot(W_l.T, dZ)\n",
    "    return dA_l_1, dW_l, db_l\n",
    "\n",
    "def Sigmoid_backward(dA, cache):\n",
    "    Z_l = cache\n",
    "    dZ = dA * dsigmoid(Z_l)\n",
    "    return dZ\n",
    "    \n"
   ]
  },
  {
   "cell_type": "markdown",
   "metadata": {},
   "source": [
    "## Train "
   ]
  },
  {
   "cell_type": "code",
   "execution_count": 5,
   "metadata": {
    "tags": []
   },
   "outputs": [
    {
     "name": "stdout",
     "output_type": "stream",
     "text": [
      "Cost after iteration 0: 1.361704\n",
      "Cost after iteration 25: 0.439532\n",
      "Cost after iteration 50: 0.431352\n",
      "Cost after iteration 75: 0.426506\n",
      "Cost after iteration 100: 0.423563\n",
      "Cost after iteration 125: 0.421909\n",
      "Cost after iteration 150: 0.421076\n",
      "Cost after iteration 175: 0.420718\n",
      "Cost after iteration 200: 0.420620\n",
      "Cost after iteration 225: 0.420662\n",
      "Cost after iteration 250: 0.420778\n",
      "Cost after iteration 275: 0.420931\n",
      "Cost after iteration 300: 0.421105\n",
      "Cost after iteration 325: 0.421288\n",
      "Cost after iteration 350: 0.421475\n",
      "Cost after iteration 375: 0.421664\n",
      "Cost after iteration 400: 0.421853\n",
      "Cost after iteration 425: 0.422042\n",
      "Cost after iteration 450: 0.422230\n",
      "Cost after iteration 475: 0.422416\n",
      "Cost after iteration 499: 0.422594\n",
      "\n",
      "\n",
      "The weights between input and first layer (W12) is:\n",
      " [[ 10.64003172  -1.61215428]\n",
      " [-35.23932599   1.86077381]\n",
      " [ -1.54661378  -0.89600427]\n",
      " [ -4.66714657  -0.83505612]]\n",
      "\n",
      "The bias of the first layer (W12) is:\n",
      " [[-5.7759772 ]\n",
      " [16.80353626]\n",
      " [-1.7555122 ]\n",
      " [ 0.04850409]]\n",
      "\n",
      "The weights between first and output layer (W23) is:\n",
      " [[-1.54723957  4.66986527  0.3602765   1.82931593]\n",
      " [ 1.54400951 -4.66486202 -0.3854978  -1.91975563]]\n",
      "\n",
      "The bias of the output layer (W12) is:\n",
      " [[-1.93858286]\n",
      " [ 1.94427233]]\n"
     ]
    },
    {
     "data": {
      "image/png": "[encoded data removed]",
      "text/plain": [
       "<Figure size 432x288 with 1 Axes>"
      ]
     },
     "metadata": {
      "needs_background": "light"
     },
     "output_type": "display_data"
    }
   ],
   "source": [
    "Weights = [W12, W23]                                   # لیست نگهدارنده وزنها\n",
    "biases = [bias2.reshape(4,1), bias3.reshape(2,1)]      # لیست نگهدارنده بایاسها\n",
    "\n",
    "losses = []\n",
    "for epoch in range(Epochs):\n",
    "    for i in range(500):    \n",
    "        A = X_train[:, 2*i:2*i+2]\n",
    "        target = Y_train[:, 2*i:2*i+2]\n",
    "        caches = []\n",
    "        \n",
    "        # انتشار به جلو برای لایه اول\n",
    "        Z, cache = affine_forward(A, Weights[0], biases[0])\n",
    "        caches.append(cache)\n",
    "        A, cache = Sigmoid_forward(Z)\n",
    "        caches.append(cache)\n",
    "\n",
    "        # انتشار به جلو برای لایه آخر\n",
    "        Z, cache = affine_forward(A, Weights[1], biases[1])\n",
    "        caches.append(cache)\n",
    "        y_hat , cache = Sigmoid_forward(Z)\n",
    "        caches.append(cache)\n",
    "\n",
    "        # محاسبه هزینه\n",
    "        cost = compute_cost(y_hat, target)\n",
    "        \n",
    "        grads = {}\n",
    "        # پس انتشار برای لایه آخر\n",
    "        current_cache = caches[2 * 2 - 1]   # Z of the last layer\n",
    "        dZ = y_hat-target\n",
    "        current_cache = caches[2 * 2 - 2]\n",
    "        dA, dW, db = affine_backward(dZ, current_cache)\n",
    "        grads[\"dA\" + str(1)], grads[\"dW\" + str(2)], grads[\"db\" + str(2)] = dA, dW, db\n",
    "\n",
    "        # پس انتشار برای لایه اول\n",
    "        current_cache = caches[1]   # Z of the l'th layer\n",
    "        dZ =Sigmoid_backward(dA, current_cache)\n",
    "        current_cache = caches[0]\n",
    "        dA, dW, db = affine_backward(dZ, current_cache)\n",
    "        grads[\"dA\" + str(0)], grads[\"dW\" + str(1)], grads[\"db\" + str(1)] = dA, dW, db\n",
    "\n",
    "        # بروز کردن وزنها و بایاسها\n",
    "        for l in range(2):\n",
    "            Weights[l] = Weights[l] - learning_rate * grads[\"dW\" + str(l+1)]\n",
    "            biases[l] = biases[l] - learning_rate * grads[\"db\" + str(l+1)]\n",
    "\n",
    "    losses.append(cost)\n",
    "    \n",
    "    # Print the cost\n",
    "    if (epoch % int(Epochs / 20) == 0 or epoch == 499):\n",
    "        print (\"Cost after iteration %i: %f\" %(epoch, cost))\n",
    "    \n",
    "plt.plot(losses)\n",
    "\n",
    "print(\"\\n\\nThe weights between input and first layer (W12) is:\\n\", Weights[0])\n",
    "print(\"\\nThe bias of the first layer (W12) is:\\n\", biases[0])\n",
    "print(\"\\nThe weights between first and output layer (W23) is:\\n\", Weights[1])\n",
    "print(\"\\nThe bias of the output layer (W12) is:\\n\", biases[1])"
   ]
  },
  {
   "cell_type": "markdown",
   "metadata": {},
   "source": [
    "## Test"
   ]
  },
  {
   "cell_type": "code",
   "execution_count": 6,
   "metadata": {
    "tags": []
   },
   "outputs": [
    {
     "name": "stdout",
     "output_type": "stream",
     "text": [
      "The list of miss classified samples are:\n",
      "\n",
      "sample no.  11 from class  1.0\n",
      "sample no.  16 from class  1.0\n",
      "sample no.  25 from class  1.0\n",
      "sample no.  37 from class  1.0\n",
      "sample no.  56 from class  1.0\n",
      "sample no.  66 from class  1.0\n",
      "sample no.  94 from class  1.0\n",
      "sample no.  98 from class  1.0\n",
      "sample no.  120 from class  1.0\n",
      "sample no.  133 from class  1.0\n",
      "sample no.  134 from class  1.0\n",
      "sample no.  137 from class  1.0\n",
      "sample no.  148 from class  1.0\n",
      "sample no.  151 from class  1.0\n",
      "sample no.  154 from class  1.0\n",
      "sample no.  197 from class  1.0\n",
      "sample no.  211 from class  1.0\n",
      "sample no.  212 from class  1.0\n",
      "sample no.  214 from class  1.0\n",
      "sample no.  221 from class  1.0\n",
      "sample no.  229 from class  1.0\n",
      "sample no.  269 from class  1.0\n",
      "sample no.  282 from class  1.0\n",
      "sample no.  295 from class  1.0\n",
      "sample no.  298 from class  1.0\n",
      "sample no.  310 from class  1.0\n",
      "sample no.  318 from class  1.0\n",
      "sample no.  347 from class  1.0\n",
      "sample no.  376 from class  1.0\n",
      "sample no.  377 from class  1.0\n",
      "sample no.  380 from class  1.0\n",
      "sample no.  398 from class  1.0\n",
      "sample no.  451 from class  1.0\n",
      "sample no.  465 from class  1.0\n",
      "sample no.  481 from class  1.0\n",
      "sample no.  486 from class  1.0\n",
      "sample no.  490 from class  1.0\n",
      "sample no.  491 from class  1.0\n",
      "sample no.  492 from class  1.0\n",
      "sample no.  510 from class  2.0\n",
      "sample no.  515 from class  2.0\n",
      "sample no.  529 from class  2.0\n",
      "sample no.  553 from class  2.0\n",
      "sample no.  571 from class  2.0\n",
      "sample no.  582 from class  2.0\n",
      "sample no.  598 from class  2.0\n",
      "sample no.  646 from class  2.0\n",
      "sample no.  691 from class  2.0\n",
      "sample no.  717 from class  2.0\n",
      "sample no.  741 from class  2.0\n",
      "sample no.  747 from class  2.0\n",
      "sample no.  787 from class  2.0\n",
      "sample no.  791 from class  2.0\n",
      "sample no.  833 from class  2.0\n",
      "sample no.  836 from class  2.0\n",
      "sample no.  846 from class  2.0\n",
      "sample no.  850 from class  2.0\n",
      "sample no.  852 from class  2.0\n",
      "sample no.  871 from class  2.0\n",
      "sample no.  886 from class  2.0\n",
      "sample no.  909 from class  2.0\n",
      "sample no.  917 from class  2.0\n",
      "sample no.  940 from class  2.0\n",
      "sample no.  963 from class  2.0\n",
      "sample no.  964 from class  2.0\n",
      "sample no.  983 from class  2.0\n",
      "\n",
      "The Confusion matix is: \n",
      "             c1(predicted)  c2(predicted)\n",
      "c1(actual)          461.0           39.0\n",
      "c2(actual)           27.0          473.0\n"
     ]
    },
    {
     "data": {
      "text/plain": [
       "<matplotlib.legend.Legend at 0x7fa74d680c40>"
      ]
     },
     "execution_count": 6,
     "metadata": {},
     "output_type": "execute_result"
    },
    {
     "data": {
      "image/png": "[encoded data removed]",
      "text/plain": [
       "<Figure size 576x432 with 1 Axes>"
      ]
     },
     "metadata": {
      "needs_background": "light"
     },
     "output_type": "display_data"
    }
   ],
   "source": [
    "# انتشار به جلو برای لایه اول\n",
    "A = X_test\n",
    "Z, cache = affine_forward(A, Weights[0], biases[0])\n",
    "A, cache = Sigmoid_forward(Z)\n",
    "\n",
    "# انتشار به جلو برای لایه آخر\n",
    "Z, cache = affine_forward(A, Weights[1], biases[1])\n",
    "Y_hat, cache = Sigmoid_forward(Z)\n",
    "\n",
    "confus_matrix = np.zeros((2, 2))\n",
    "x1_miss_class = []\n",
    "x2_miss_class = []\n",
    "print(\"The list of miss classified samples are:\\n\")\n",
    "\n",
    "for i in range(1000):\n",
    "    label = Test[i, 0]\n",
    "    if (Y_hat[0, i] > Y_hat[1, i]): predicted_class = 1\n",
    "    else: predicted_class = 2\n",
    "    if (label == 1 and predicted_class == 2):\n",
    "        confus_matrix[0, 1] += 1\n",
    "        x1_miss_class.append(X_test[0, i])\n",
    "        x2_miss_class.append(X_test[1, i])\n",
    "        print(\"sample no. \", i+1, \"from class \", label)\n",
    "        \n",
    "    elif (label == 2 and predicted_class == 1):\n",
    "        confus_matrix[1, 0] += 1\n",
    "        x1_miss_class.append(X_test[0, i])\n",
    "        x2_miss_class.append(X_test[1, i])\n",
    "        print(\"sample no. \", i+1, \"from class \", label)\n",
    "\n",
    "confus_matrix[0, 0] = 500 - confus_matrix [0, 1]  \n",
    "confus_matrix[1, 1] = 500 - confus_matrix [1, 0]\n",
    "\n",
    "confusion_matrix = pd.DataFrame(confus_matrix, index=['c1(actual)', 'c2(actual)'],\n",
    "                                columns=['c1(predicted)', 'c2(predicted)'])\n",
    "print(\"\\nThe Confusion matix is: \\n\", confusion_matrix)\n",
    "\n",
    "plt.figure(figsize = (8, 6))\n",
    "plt.scatter(X_test[0,0:500], X_test[1,0:500], s=15)\n",
    "plt.scatter(X_test[0,500:1000], X_test[1,500:1000], s=15, c = '#2ca02c')\n",
    "plt.scatter(x1_miss_class, x2_miss_class, s=5, c = '#d62728')\n",
    "plt.legend([\"class1\", \"class2\", \"miss classified samples\"])"
   ]
  },
  {
   "cell_type": "code",
   "execution_count": null,
   "metadata": {},
   "outputs": [],
   "source": []
  }
 ],
 "metadata": {
  "kernelspec": {
   "display_name": "Python 3 (ipykernel)",
   "language": "python",
   "name": "python3"
  },
  "language_info": {
   "codemirror_mode": {
    "name": "ipython",
    "version": 3
   },
   "file_extension": ".py",
   "mimetype": "text/x-python",
   "name": "python",
   "nbconvert_exporter": "python",
   "pygments_lexer": "ipython3",
   "version": "3.8.8"
  }
 },
 "nbformat": 4,
 "nbformat_minor": 4
}
